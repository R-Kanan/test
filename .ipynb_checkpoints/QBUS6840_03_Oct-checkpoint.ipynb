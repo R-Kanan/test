{
 "cells": [
  {
   "cell_type": "code",
   "execution_count": 1,
   "metadata": {},
   "outputs": [],
   "source": [
    "import pandas as pd\n",
    "import numpy as np\n",
    "import matplotlib.pyplot as plt\n",
    "import seaborn as sns\n",
    "import datetime as dt\n",
    "\n",
    "import statsmodels as sm\n",
    "import statsmodels.api as smt\n",
    "from statsmodels.tsa.stattools import adfuller\n",
    "\n",
    "from sklearn.linear_model import LinearRegression\n",
    "from statsmodels.tsa.holtwinters import ExponentialSmoothing\n",
    "from statsmodels.tsa.arima.model import ARIMA\n",
    "\n",
    "# pip install pmdarima --user (for installing pmdarima)\n",
    "import pmdarima as pm \n",
    "\n",
    "import warnings\n",
    "warnings.filterwarnings(\"ignore\")"
   ]
  },
  {
   "cell_type": "markdown",
   "metadata": {},
   "source": [
    "# Import Data"
   ]
  },
  {
   "cell_type": "code",
   "execution_count": 2,
   "metadata": {},
   "outputs": [
    {
     "name": "stdout",
     "output_type": "stream",
     "text": [
      "             CPI\n",
      "Quarter         \n",
      "1990-03-01  50.3\n",
      "1990-06-01  51.7\n",
      "1990-09-01  51.3\n",
      "1990-12-01  51.8\n",
      "1991-03-01  52.9\n",
      "              CPI\n",
      "Quarter          \n",
      "2021-12-01  115.0\n",
      "2022-03-01  118.2\n",
      "2022-06-01  120.6\n",
      "2022-09-01  124.5\n",
      "2022-12-01  125.6\n"
     ]
    }
   ],
   "source": [
    "# CPI data import for modelling\n",
    "\n",
    "cpi_train = pd.read_csv(\"CPI_train.csv\")\n",
    "df = cpi_train.copy()\n",
    "df['Quarter']=pd.to_datetime(df['Quarter'])     # Convert the data in the Month column to datetime\n",
    "df.set_index('Quarter', inplace=True)                # Indexing the DataFrame by the Month column\n",
    "print(df.head())\n",
    "print(df.tail())"
   ]
  },
  {
   "cell_type": "code",
   "execution_count": 3,
   "metadata": {},
   "outputs": [
    {
     "name": "stdout",
     "output_type": "stream",
     "text": [
      "            cashrate\n",
      "date                \n",
      "2011-01-04      4.75\n",
      "2011-01-05      4.75\n",
      "2011-01-06      4.75\n",
      "2011-01-07      4.75\n",
      "2011-01-10      4.75\n",
      "            cashrate\n",
      "date                \n",
      "2023-01-01      3.10\n",
      "2023-02-01      3.10\n",
      "2023-03-01      3.35\n",
      "2023-04-01      3.60\n",
      "2023-05-01      3.60\n"
     ]
    }
   ],
   "source": [
    "# Cash Rate data import for qualitative analysis\n",
    "\n",
    "cash_rate_historical = pd.read_excel(\"cashrate_data.xlsx\", \n",
    "                          sheet_name = 'Historical')\n",
    "\n",
    "cash_rate_outlook = pd.read_excel(\"cashrate_data.xlsx\", \n",
    "                          sheet_name = 'Outlook', header = None)\n",
    "\n",
    "df_historical = cash_rate_historical.copy()\n",
    "df_outlook = cash_rate_outlook.copy()\n",
    "\n",
    "df_outlook = df_outlook.rename({0:'date', 1: 'cashrate'}, axis = 1)\n",
    "df_historical.columns = df_historical.columns.str.lower()\n",
    "\n",
    "df_historical['date'] = pd.to_datetime(df_historical['date'])\n",
    "df_historical.set_index('date', inplace=True)\n",
    "\n",
    "df_outlook['date'] = pd.to_datetime(df_outlook['date'])\n",
    "df_outlook.set_index('date', inplace=True)\n",
    "\n",
    "print(df_historical.head())\n",
    "print(df_outlook.head())"
   ]
  },
  {
   "cell_type": "markdown",
   "metadata": {},
   "source": [
    "# EDA"
   ]
  },
  {
   "cell_type": "markdown",
   "metadata": {},
   "source": [
    "### Statistical Overview and Time Plot"
   ]
  },
  {
   "cell_type": "markdown",
   "metadata": {},
   "source": [
    "https://towardsdatascience.com/time-series-forecasting-a-practical-guide-to-exploratory-data-analysis-a101dc5f85b1\n",
    "\n",
    "https://medium.com/@stallonejacob/time-series-forecast-a-basic-introduction-using-python-414fcb963000"
   ]
  },
  {
   "cell_type": "code",
   "execution_count": 4,
   "metadata": {},
   "outputs": [
    {
     "name": "stdout",
     "output_type": "stream",
     "text": [
      "<class 'pandas.core.frame.DataFrame'>\n",
      "DatetimeIndex: 132 entries, 1990-03-01 to 2022-12-01\n",
      "Data columns (total 1 columns):\n",
      " #   Column  Non-Null Count  Dtype  \n",
      "---  ------  --------------  -----  \n",
      " 0   CPI     132 non-null    float64\n",
      "dtypes: float64(1)\n",
      "memory usage: 2.1 KB\n"
     ]
    }
   ],
   "source": [
    "df.info()"
   ]
  },
  {
   "cell_type": "code",
   "execution_count": 5,
   "metadata": {},
   "outputs": [
    {
     "data": {
      "text/html": [
       "<div>\n",
       "<style scoped>\n",
       "    .dataframe tbody tr th:only-of-type {\n",
       "        vertical-align: middle;\n",
       "    }\n",
       "\n",
       "    .dataframe tbody tr th {\n",
       "        vertical-align: top;\n",
       "    }\n",
       "\n",
       "    .dataframe thead th {\n",
       "        text-align: right;\n",
       "    }\n",
       "</style>\n",
       "<table border=\"1\" class=\"dataframe\">\n",
       "  <thead>\n",
       "    <tr style=\"text-align: right;\">\n",
       "      <th></th>\n",
       "      <th>CPI</th>\n",
       "    </tr>\n",
       "  </thead>\n",
       "  <tbody>\n",
       "    <tr>\n",
       "      <th>count</th>\n",
       "      <td>132.000000</td>\n",
       "    </tr>\n",
       "    <tr>\n",
       "      <th>mean</th>\n",
       "      <td>83.634091</td>\n",
       "    </tr>\n",
       "    <tr>\n",
       "      <th>std</th>\n",
       "      <td>21.548397</td>\n",
       "    </tr>\n",
       "    <tr>\n",
       "      <th>min</th>\n",
       "      <td>50.300000</td>\n",
       "    </tr>\n",
       "    <tr>\n",
       "      <th>25%</th>\n",
       "      <td>62.075000</td>\n",
       "    </tr>\n",
       "    <tr>\n",
       "      <th>50%</th>\n",
       "      <td>85.650000</td>\n",
       "    </tr>\n",
       "    <tr>\n",
       "      <th>75%</th>\n",
       "      <td>103.800000</td>\n",
       "    </tr>\n",
       "    <tr>\n",
       "      <th>max</th>\n",
       "      <td>125.600000</td>\n",
       "    </tr>\n",
       "  </tbody>\n",
       "</table>\n",
       "</div>"
      ],
      "text/plain": [
       "              CPI\n",
       "count  132.000000\n",
       "mean    83.634091\n",
       "std     21.548397\n",
       "min     50.300000\n",
       "25%     62.075000\n",
       "50%     85.650000\n",
       "75%    103.800000\n",
       "max    125.600000"
      ]
     },
     "execution_count": 5,
     "metadata": {},
     "output_type": "execute_result"
    }
   ],
   "source": [
    "df.describe()"
   ]
  },
  {
   "cell_type": "code",
   "execution_count": 6,
   "metadata": {},
   "outputs": [
    {
     "name": "stdout",
     "output_type": "stream",
     "text": [
      "<class 'pandas.core.frame.DataFrame'>\n",
      "DatetimeIndex: 3036 entries, 2011-01-04 to 2022-12-30\n",
      "Data columns (total 1 columns):\n",
      " #   Column    Non-Null Count  Dtype  \n",
      "---  ------    --------------  -----  \n",
      " 0   cashrate  3036 non-null   float64\n",
      "dtypes: float64(1)\n",
      "memory usage: 47.4 KB\n"
     ]
    }
   ],
   "source": [
    "df_historical.info()"
   ]
  },
  {
   "cell_type": "code",
   "execution_count": 7,
   "metadata": {},
   "outputs": [
    {
     "data": {
      "text/html": [
       "<div>\n",
       "<style scoped>\n",
       "    .dataframe tbody tr th:only-of-type {\n",
       "        vertical-align: middle;\n",
       "    }\n",
       "\n",
       "    .dataframe tbody tr th {\n",
       "        vertical-align: top;\n",
       "    }\n",
       "\n",
       "    .dataframe thead th {\n",
       "        text-align: right;\n",
       "    }\n",
       "</style>\n",
       "<table border=\"1\" class=\"dataframe\">\n",
       "  <thead>\n",
       "    <tr style=\"text-align: right;\">\n",
       "      <th></th>\n",
       "      <th>cashrate</th>\n",
       "    </tr>\n",
       "  </thead>\n",
       "  <tbody>\n",
       "    <tr>\n",
       "      <th>count</th>\n",
       "      <td>3036.000000</td>\n",
       "    </tr>\n",
       "    <tr>\n",
       "      <th>mean</th>\n",
       "      <td>1.942029</td>\n",
       "    </tr>\n",
       "    <tr>\n",
       "      <th>std</th>\n",
       "      <td>1.316384</td>\n",
       "    </tr>\n",
       "    <tr>\n",
       "      <th>min</th>\n",
       "      <td>0.100000</td>\n",
       "    </tr>\n",
       "    <tr>\n",
       "      <th>25%</th>\n",
       "      <td>1.000000</td>\n",
       "    </tr>\n",
       "    <tr>\n",
       "      <th>50%</th>\n",
       "      <td>1.500000</td>\n",
       "    </tr>\n",
       "    <tr>\n",
       "      <th>75%</th>\n",
       "      <td>2.500000</td>\n",
       "    </tr>\n",
       "    <tr>\n",
       "      <th>max</th>\n",
       "      <td>4.750000</td>\n",
       "    </tr>\n",
       "  </tbody>\n",
       "</table>\n",
       "</div>"
      ],
      "text/plain": [
       "          cashrate\n",
       "count  3036.000000\n",
       "mean      1.942029\n",
       "std       1.316384\n",
       "min       0.100000\n",
       "25%       1.000000\n",
       "50%       1.500000\n",
       "75%       2.500000\n",
       "max       4.750000"
      ]
     },
     "execution_count": 7,
     "metadata": {},
     "output_type": "execute_result"
    }
   ],
   "source": [
    "df_historical.describe()"
   ]
  },
  {
   "cell_type": "code",
   "execution_count": 8,
   "metadata": {},
   "outputs": [
    {
     "name": "stdout",
     "output_type": "stream",
     "text": [
      "<class 'pandas.core.frame.DataFrame'>\n",
      "DatetimeIndex: 21 entries, 2023-01-01 to 2024-09-01\n",
      "Data columns (total 1 columns):\n",
      " #   Column    Non-Null Count  Dtype  \n",
      "---  ------    --------------  -----  \n",
      " 0   cashrate  21 non-null     float64\n",
      "dtypes: float64(1)\n",
      "memory usage: 336.0 bytes\n"
     ]
    }
   ],
   "source": [
    "df_outlook.info()"
   ]
  },
  {
   "cell_type": "code",
   "execution_count": 9,
   "metadata": {},
   "outputs": [
    {
     "data": {
      "text/html": [
       "<div>\n",
       "<style scoped>\n",
       "    .dataframe tbody tr th:only-of-type {\n",
       "        vertical-align: middle;\n",
       "    }\n",
       "\n",
       "    .dataframe tbody tr th {\n",
       "        vertical-align: top;\n",
       "    }\n",
       "\n",
       "    .dataframe thead th {\n",
       "        text-align: right;\n",
       "    }\n",
       "</style>\n",
       "<table border=\"1\" class=\"dataframe\">\n",
       "  <thead>\n",
       "    <tr style=\"text-align: right;\">\n",
       "      <th></th>\n",
       "      <th>cashrate</th>\n",
       "    </tr>\n",
       "  </thead>\n",
       "  <tbody>\n",
       "    <tr>\n",
       "      <th>count</th>\n",
       "      <td>21.000000</td>\n",
       "    </tr>\n",
       "    <tr>\n",
       "      <th>mean</th>\n",
       "      <td>4.028571</td>\n",
       "    </tr>\n",
       "    <tr>\n",
       "      <th>std</th>\n",
       "      <td>0.426782</td>\n",
       "    </tr>\n",
       "    <tr>\n",
       "      <th>min</th>\n",
       "      <td>3.100000</td>\n",
       "    </tr>\n",
       "    <tr>\n",
       "      <th>25%</th>\n",
       "      <td>3.850000</td>\n",
       "    </tr>\n",
       "    <tr>\n",
       "      <th>50%</th>\n",
       "      <td>4.100000</td>\n",
       "    </tr>\n",
       "    <tr>\n",
       "      <th>75%</th>\n",
       "      <td>4.350000</td>\n",
       "    </tr>\n",
       "    <tr>\n",
       "      <th>max</th>\n",
       "      <td>4.350000</td>\n",
       "    </tr>\n",
       "  </tbody>\n",
       "</table>\n",
       "</div>"
      ],
      "text/plain": [
       "        cashrate\n",
       "count  21.000000\n",
       "mean    4.028571\n",
       "std     0.426782\n",
       "min     3.100000\n",
       "25%     3.850000\n",
       "50%     4.100000\n",
       "75%     4.350000\n",
       "max     4.350000"
      ]
     },
     "execution_count": 9,
     "metadata": {},
     "output_type": "execute_result"
    }
   ],
   "source": [
    "df_outlook.describe()"
   ]
  },
  {
   "cell_type": "code",
   "execution_count": 10,
   "metadata": {},
   "outputs": [
    {
     "data": {
      "image/png": "[encoded data removed]",
      "text/plain": [
       "<Figure size 1080x432 with 1 Axes>"
      ]
     },
     "metadata": {
      "needs_background": "light"
     },
     "output_type": "display_data"
    }
   ],
   "source": [
    "# Extract CPI column\n",
    "ts = df['CPI']\n",
    "\n",
    "# Create a figure and plot the time series\n",
    "plt.figure(figsize=(15,6))                          \n",
    "plt.plot(ts.index, ts)\n",
    "plt.grid()\n",
    "plt.title('CPI (weighted avg of consumer goods prices) 1990-2022')  \n",
    "plt.xlabel('Time')                    \n",
    "plt.ylabel('CPI')    \n",
    "plt.show()"
   ]
  },
  {
   "cell_type": "code",
   "execution_count": 11,
   "metadata": {},
   "outputs": [
    {
     "data": {
      "image/png": "[encoded data removed]",
      "text/plain": [
       "<Figure size 1080x432 with 1 Axes>"
      ]
     },
     "metadata": {
      "needs_background": "light"
     },
     "output_type": "display_data"
    }
   ],
   "source": [
    "# exploring the time period between 2004 and 2012\n",
    "ts = df['2004':'2012']['CPI']\n",
    "\n",
    "# Create a figure and plot the time series\n",
    "plt.figure(figsize=(15,6)) # Create an empty figure\n",
    "plt.plot(ts)                # Implicitly use time indexes for x data\n",
    "plt.grid()\n",
    "plt.title('CPI 2004-2012')  # Add title to the plot\n",
    "plt.xlabel('Time')                    # Add label to the x-axis\n",
    "plt.ylabel('CPI')           # Add label to the y-axis\n",
    "plt.show()"
   ]
  },
  {
   "cell_type": "code",
   "execution_count": 12,
   "metadata": {},
   "outputs": [
    {
     "data": {
      "image/png": "[encoded data removed]",
      "text/plain": [
       "<Figure size 1080x432 with 1 Axes>"
      ]
     },
     "metadata": {
      "needs_background": "light"
     },
     "output_type": "display_data"
    }
   ],
   "source": [
    "# exploring the time period between 2013 and 2020\n",
    "ts = df['2013': '2020']['CPI']\n",
    "\n",
    "# Create a figure and plot the time series\n",
    "plt.figure(figsize=(15,6)) # Create an empty figure\n",
    "plt.plot(ts)                # Implicitly use time indexes for x data\n",
    "plt.grid()\n",
    "plt.title('CPI 2004-2012')  # Add title to the plot\n",
    "plt.xlabel('Time')                    # Add label to the x-axis\n",
    "plt.ylabel('CPI')           # Add label to the y-axis\n",
    "plt.show()"
   ]
  },
  {
   "cell_type": "code",
   "execution_count": 13,
   "metadata": {},
   "outputs": [],
   "source": [
    "\"\"\"\n",
    "The format of Cash Rate data is not the same as CPI train data.\n",
    "While the Cash Rate data is daily data, CPI train data is quarterly. \n",
    "So before doing any kind of analysis or comparison between 2 datasets,\n",
    "they should reflect same format first. Hence, Cash Rate data was converted to quarterly format using group by\n",
    "functionality\n",
    "\"\"\"\n",
    "\n",
    "df_historical = df_historical.reset_index()\n",
    "df_historical['month'] = np.where(df_historical['date'].dt.month.isin([12,1,2]), \n",
    "                                    3, \n",
    "                                   np.where(df_historical['date'].dt.month.isin([3,4,5]), \n",
    "                                    6,\n",
    "                                   np.where(df_historical['date'].dt.month.isin([6,7,8]), \n",
    "                                    9, \n",
    "                                   12)))\n",
    "\n",
    "\n",
    "df_historical['year'] = df_historical['date'].dt.year\n",
    "df_historical['day'] = 1\n",
    "df_historical['quarter'] = pd.to_datetime(df_historical[['year','month', 'day']])\n",
    "\n",
    "df_historical = df_historical.groupby(['quarter']).agg({'cashrate':'mean'})"
   ]
  },
  {
   "cell_type": "code",
   "execution_count": 14,
   "metadata": {},
   "outputs": [
    {
     "data": {
      "text/plain": [
       "<AxesSubplot:xlabel='CPI', ylabel='cashrate'>"
      ]
     },
     "execution_count": 14,
     "metadata": {},
     "output_type": "execute_result"
    },
    {
     "data": {
      "image/png": "[encoded data removed]",
      "text/plain": [
       "<Figure size 1080x720 with 1 Axes>"
      ]
     },
     "metadata": {
      "needs_background": "light"
     },
     "output_type": "display_data"
    }
   ],
   "source": [
    "# Measuring possible correlation between CPI and Cash Rate\n",
    "plt.figure(figsize=(15,10)) \n",
    "plt.grid()\n",
    "sns.scatterplot(df['2011':]['CPI'], df_historical['cashrate'])"
   ]
  },
  {
   "cell_type": "code",
   "execution_count": 15,
   "metadata": {},
   "outputs": [
    {
     "data": {
      "image/png": "[encoded data removed]",
      "text/plain": [
       "<Figure size 1440x720 with 2 Axes>"
      ]
     },
     "metadata": {
      "needs_background": "light"
     },
     "output_type": "display_data"
    }
   ],
   "source": [
    "# Plotting 2011-2022 pattern between CPI and Cash Rate\n",
    "ts_cpi = df['2011':]['CPI']\n",
    "ts_cash = df_historical['cashrate']\n",
    "\n",
    "fig, ax1 = plt.subplots(figsize=(20, 10))\n",
    "plt.title('CPI & Cash Rate (2011-2022)')\n",
    "plt.grid()\n",
    "\n",
    "# CPI\n",
    "ax1.plot(ts_cpi, color='red', label='CPI')\n",
    "ax1.set_xlabel('Time')                     # Add label to the x-axis\n",
    "ax1.set_ylabel('CPI', color='red')         # Add label to the y-axis\n",
    "ax1.tick_params(axis='y', labelcolor='red')\n",
    "\n",
    "# Cash Rate\n",
    "ax2 = ax1.twinx()                          # share the same x-axis\n",
    "ax2.plot(ts_cash, color='blue', label='Cash Rate')\n",
    "ax2.set_ylabel('Cash Rate', color='blue')  # Add label to the secondary y-axis\n",
    "ax2.tick_params(axis='y', labelcolor='blue')"
   ]
  },
  {
   "cell_type": "markdown",
   "metadata": {},
   "source": [
    "### Time Series Decomposition"
   ]
  },
  {
   "cell_type": "code",
   "execution_count": 16,
   "metadata": {},
   "outputs": [
    {
     "data": {
      "text/plain": [
       "Quarter\n",
       "2013-03-01         NaN\n",
       "2013-06-01         NaN\n",
       "2013-09-01    100.8500\n",
       "2013-12-01    101.4375\n",
       "2014-03-01    102.1875\n",
       "2014-06-01    102.8750\n",
       "2014-09-01    103.3625\n",
       "2014-12-01    103.7625\n",
       "2015-03-01    103.9500\n",
       "2015-06-01    104.0250\n",
       "2015-09-01    104.0750\n",
       "2015-12-01    104.0625\n",
       "2016-03-01    104.2500\n",
       "2016-06-01    104.6875\n",
       "2016-09-01    105.1625\n",
       "2016-12-01    105.6500\n",
       "2017-03-01    105.8125\n",
       "2017-06-01    105.7000\n",
       "2017-09-01    105.7375\n",
       "2017-12-01    105.8375\n",
       "2018-03-01    106.0875\n",
       "2018-06-01    106.5000\n",
       "2018-09-01    107.0125\n",
       "2018-12-01    107.6375\n",
       "2019-03-01    108.2500\n",
       "2019-06-01    108.9000\n",
       "2019-09-01    109.6875\n",
       "2019-12-01    110.6875\n",
       "2020-03-01    111.7125\n",
       "2020-06-01    112.4875\n",
       "2020-09-01         NaN\n",
       "2020-12-01         NaN\n",
       "Name: CPI, dtype: float64"
      ]
     },
     "execution_count": 16,
     "metadata": {},
     "output_type": "execute_result"
    }
   ],
   "source": [
    "#window size 4 since we are dealing with quarterly data\n",
    "ts_CMA4 = ts.rolling(4,center=True).mean().rolling(2,center=True).mean().shift(-1)\n",
    "ts_CMA4"
   ]
  },
  {
   "cell_type": "code",
   "execution_count": 17,
   "metadata": {},
   "outputs": [
    {
     "data": {
      "image/png": "[encoded data removed]",
      "text/plain": [
       "<Figure size 1080x432 with 1 Axes>"
      ]
     },
     "metadata": {
      "needs_background": "light"
     },
     "output_type": "display_data"
    }
   ],
   "source": [
    "# Plot the original and smooth series\n",
    "plt.figure(figsize=(15,6))\n",
    "plt.grid()\n",
    "plt.plot(ts)\n",
    "plt.plot(ts_CMA4,'--r')\n",
    "plt.legend(['Original data','Smoothed data (CMA-4)'])\n",
    "plt.show()"
   ]
  },
  {
   "cell_type": "code",
   "execution_count": 18,
   "metadata": {},
   "outputs": [
    {
     "data": {
      "text/plain": [
       "Quarter\n",
       "2013-03-01       NaN\n",
       "2013-06-01       NaN\n",
       "2013-09-01   -0.5500\n",
       "2013-12-01    0.4625\n",
       "2014-03-01    0.0125\n",
       "2014-06-01   -0.2750\n",
       "2014-09-01    0.4375\n",
       "2014-12-01    0.1375\n",
       "2015-03-01    0.1500\n",
       "2015-06-01   -0.1250\n",
       "2015-09-01   -0.0750\n",
       "2015-12-01    0.2375\n",
       "2016-03-01   -0.1500\n",
       "2016-06-01   -0.8875\n",
       "2016-09-01    0.4375\n",
       "2016-12-01    0.5500\n",
       "2017-03-01    0.1875\n",
       "2017-06-01    0.1000\n",
       "2017-09-01   -0.8375\n",
       "2017-12-01    0.1625\n",
       "2018-03-01    0.4125\n",
       "2018-06-01   -0.4000\n",
       "2018-09-01   -0.4125\n",
       "2018-12-01   -0.0375\n",
       "2019-03-01    0.7500\n",
       "2019-06-01   -0.3000\n",
       "2019-09-01   -0.6875\n",
       "2019-12-01   -0.2875\n",
       "2020-03-01    0.7875\n",
       "2020-06-01    0.6125\n",
       "2020-09-01       NaN\n",
       "2020-12-01       NaN\n",
       "Name: CPI, dtype: float64"
      ]
     },
     "execution_count": 18,
     "metadata": {},
     "output_type": "execute_result"
    }
   ],
   "source": [
    "ts_res = ts - ts_CMA4\n",
    "ts_res"
   ]
  },
  {
   "cell_type": "code",
   "execution_count": 19,
   "metadata": {},
   "outputs": [
    {
     "data": {
      "image/png": "[encoded data removed]",
      "text/plain": [
       "<Figure size 1080x432 with 1 Axes>"
      ]
     },
     "metadata": {
      "needs_background": "light"
     },
     "output_type": "display_data"
    }
   ],
   "source": [
    "# Plot the de-trended and original series\n",
    "plt.figure(figsize = (15,6))\n",
    "plt.plot(ts.index,ts,label=\"Original series\")\n",
    "plt.plot(ts.index,ts_res,'r-',label=\"De-trend series\")\n",
    "plt.xlabel('Time')\n",
    "plt.ylabel('CPI')\n",
    "plt.legend()\n",
    "plt.show()"
   ]
  },
  {
   "cell_type": "code",
   "execution_count": 20,
   "metadata": {},
   "outputs": [
    {
     "ename": "ValueError",
     "evalue": "cannot reshape array of size 32 into shape (33,4)",
     "output_type": "error",
     "traceback": [
      "\u001b[1;31m---------------------------------------------------------------------------\u001b[0m",
      "\u001b[1;31mValueError\u001b[0m                                Traceback (most recent call last)",
      "\u001b[1;32m<ipython-input-20-27314ad8a420>\u001b[0m in \u001b[0;36m<module>\u001b[1;34m\u001b[0m\n\u001b[0;32m      3\u001b[0m \u001b[1;33m\u001b[0m\u001b[0m\n\u001b[0;32m      4\u001b[0m \u001b[1;31m# Reshape the de-trended series to a table.\u001b[0m\u001b[1;33m\u001b[0m\u001b[1;33m\u001b[0m\u001b[1;33m\u001b[0m\u001b[0m\n\u001b[1;32m----> 5\u001b[1;33m \u001b[0mquarterly_S\u001b[0m \u001b[1;33m=\u001b[0m \u001b[0mnp\u001b[0m\u001b[1;33m.\u001b[0m\u001b[0mreshape\u001b[0m\u001b[1;33m(\u001b[0m\u001b[0mts_res_zero\u001b[0m\u001b[1;33m,\u001b[0m \u001b[1;33m(\u001b[0m\u001b[1;36m33\u001b[0m\u001b[1;33m,\u001b[0m \u001b[1;36m4\u001b[0m\u001b[1;33m)\u001b[0m\u001b[1;33m)\u001b[0m\u001b[1;33m\u001b[0m\u001b[1;33m\u001b[0m\u001b[0m\n\u001b[0m\u001b[0;32m      6\u001b[0m \u001b[1;33m\u001b[0m\u001b[0m\n\u001b[0;32m      7\u001b[0m \u001b[1;31m# Calculate column averages (Average number of passengers in 4 quarters of 33 years)\u001b[0m\u001b[1;33m\u001b[0m\u001b[1;33m\u001b[0m\u001b[1;33m\u001b[0m\u001b[0m\n",
      "\u001b[1;32m~\\AppData\\Roaming\\Python\\Python38\\site-packages\\numpy\\core\\overrides.py\u001b[0m in \u001b[0;36mreshape\u001b[1;34m(*args, **kwargs)\u001b[0m\n",
      "\u001b[1;32m~\\AppData\\Roaming\\Python\\Python38\\site-packages\\numpy\\core\\fromnumeric.py\u001b[0m in \u001b[0;36mreshape\u001b[1;34m(a, newshape, order)\u001b[0m\n\u001b[0;32m    296\u001b[0m            [5, 6]])\n\u001b[0;32m    297\u001b[0m     \"\"\"\n\u001b[1;32m--> 298\u001b[1;33m     \u001b[1;32mreturn\u001b[0m \u001b[0m_wrapfunc\u001b[0m\u001b[1;33m(\u001b[0m\u001b[0ma\u001b[0m\u001b[1;33m,\u001b[0m \u001b[1;34m'reshape'\u001b[0m\u001b[1;33m,\u001b[0m \u001b[0mnewshape\u001b[0m\u001b[1;33m,\u001b[0m \u001b[0morder\u001b[0m\u001b[1;33m=\u001b[0m\u001b[0morder\u001b[0m\u001b[1;33m)\u001b[0m\u001b[1;33m\u001b[0m\u001b[1;33m\u001b[0m\u001b[0m\n\u001b[0m\u001b[0;32m    299\u001b[0m \u001b[1;33m\u001b[0m\u001b[0m\n\u001b[0;32m    300\u001b[0m \u001b[1;33m\u001b[0m\u001b[0m\n",
      "\u001b[1;32m~\\AppData\\Roaming\\Python\\Python38\\site-packages\\numpy\\core\\fromnumeric.py\u001b[0m in \u001b[0;36m_wrapfunc\u001b[1;34m(obj, method, *args, **kwds)\u001b[0m\n\u001b[0;32m     55\u001b[0m \u001b[1;33m\u001b[0m\u001b[0m\n\u001b[0;32m     56\u001b[0m     \u001b[1;32mtry\u001b[0m\u001b[1;33m:\u001b[0m\u001b[1;33m\u001b[0m\u001b[1;33m\u001b[0m\u001b[0m\n\u001b[1;32m---> 57\u001b[1;33m         \u001b[1;32mreturn\u001b[0m \u001b[0mbound\u001b[0m\u001b[1;33m(\u001b[0m\u001b[1;33m*\u001b[0m\u001b[0margs\u001b[0m\u001b[1;33m,\u001b[0m \u001b[1;33m**\u001b[0m\u001b[0mkwds\u001b[0m\u001b[1;33m)\u001b[0m\u001b[1;33m\u001b[0m\u001b[1;33m\u001b[0m\u001b[0m\n\u001b[0m\u001b[0;32m     58\u001b[0m     \u001b[1;32mexcept\u001b[0m \u001b[0mTypeError\u001b[0m\u001b[1;33m:\u001b[0m\u001b[1;33m\u001b[0m\u001b[1;33m\u001b[0m\u001b[0m\n\u001b[0;32m     59\u001b[0m         \u001b[1;31m# A TypeError occurs if the object does have such a method in its\u001b[0m\u001b[1;33m\u001b[0m\u001b[1;33m\u001b[0m\u001b[1;33m\u001b[0m\u001b[0m\n",
      "\u001b[1;31mValueError\u001b[0m: cannot reshape array of size 32 into shape (33,4)"
     ]
    }
   ],
   "source": [
    "# Replace missing values in the ts_res by zeros\n",
    "ts_res_zero = np.nan_to_num(ts_res)\n",
    "\n",
    "# Reshape the de-trended series to a table. \n",
    "quarterly_S = np.reshape(ts_res_zero, (33, 4))\n",
    "\n",
    "# Calculate column averages (Average number of passengers in 4 quarters of 33 years)\n",
    "quarterly_avg = np.mean(quarterly_S[1:32,:], axis=0)"
   ]
  },
  {
   "cell_type": "code",
   "execution_count": null,
   "metadata": {},
   "outputs": [],
   "source": [
    "seasonal_idx = quarterly_avg.mean()\n",
    "seasonal_idx_normalized = quarterly_avg - seasonal_idx\n",
    "print(seasonal_idx_normalized.mean())"
   ]
  },
  {
   "cell_type": "code",
   "execution_count": null,
   "metadata": {},
   "outputs": [],
   "source": [
    "seasonal = np.tile(seasonal_idx_normalized, 33)\n",
    "\n",
    "# Subtract the seasonal average from the original data \n",
    "# to obtain the seasonal adjusted data\n",
    "seasonally_adjusted = ts - seasonal"
   ]
  },
  {
   "cell_type": "code",
   "execution_count": null,
   "metadata": {},
   "outputs": [],
   "source": [
    "# Plot the seasonally adjusted data:\n",
    "fig, ax = plt.subplots(4, 1,figsize=(12,8))\n",
    "ax[0].plot(ts)\n",
    "ax[1].plot(ts_CMA4)\n",
    "ax[2].plot(seasonal)\n",
    "ax[3].plot(seasonally_adjusted)\n",
    "ax[0].legend(['original ts'], loc=2)\n",
    "ax[1].legend(['trend'], loc=2)\n",
    "ax[2].legend(['seasonality'], loc=2)\n",
    "ax[3].legend(['seasonal adjusted'], loc=2)\n",
    "plt.xlabel('Time')\n",
    "plt.show()"
   ]
  },
  {
   "cell_type": "markdown",
   "metadata": {},
   "source": [
    "### Lag Analysis"
   ]
  },
  {
   "cell_type": "code",
   "execution_count": null,
   "metadata": {},
   "outputs": [],
   "source": [
    "#ACF plot to claim whether given time series is stationary or not stationary\n",
    "smt.graphics.tsa.plot_acf(ts, lags=30, alpha = 0.01)\n",
    "plt.show()"
   ]
  },
  {
   "cell_type": "code",
   "execution_count": null,
   "metadata": {},
   "outputs": [],
   "source": [
    "smt.graphics.tsa.plot_pacf(ts, lags=30, alpha = 0.05)\n",
    "plt.show()"
   ]
  },
  {
   "cell_type": "code",
   "execution_count": null,
   "metadata": {},
   "outputs": [],
   "source": [
    "#Formal way to test whether given time series is stationary or not stationary\n",
    "\n",
    "def test_stationarity(timeseries):\n",
    "    # Perform Dickey-Fuller test:\n",
    "    print('Results of Dickey-Fuller Test:')\n",
    "    dftest = adfuller(timeseries, autolag='AIC')\n",
    "    \n",
    "    # Print test outputs\n",
    "    dfoutput = pd.Series(dftest[0:4], index=['Test Statistic','pvalue','#Lags Used','Number of Observations Used'])\n",
    "    for key,value in dftest[4].items():\n",
    "        dfoutput['Critical Value (%s)'%key] = value\n",
    "    print(dfoutput)\n",
    "\n",
    "def plot_curve(timeseries, window_size):\n",
    "    # Determing rolling statistics\n",
    "    rolmean = timeseries.rolling(window_size,center=True).mean()\n",
    "    rolstd = timeseries.rolling(window_size,center=True).std()\n",
    "\n",
    "    # Plot rolling statistics:\n",
    "    plt.figure(figsize=(13,6))\n",
    "    plt.plot(timeseries, color='blue',label='Original')\n",
    "    plt.plot(rolmean, color='red', label='Rolling Mean')\n",
    "    plt.plot(rolstd, color='black', label = 'Rolling Std')\n",
    "    plt.legend(loc='best')\n",
    "    plt.title('Rolling Mean & Standard Deviation')\n",
    "    plt.grid()\n",
    "    plt.show()"
   ]
  },
  {
   "cell_type": "code",
   "execution_count": null,
   "metadata": {},
   "outputs": [],
   "source": [
    "#Function calls\n",
    "test_stationarity(ts)\n",
    "plot_curve(ts, window_size = 4)"
   ]
  },
  {
   "cell_type": "markdown",
   "metadata": {},
   "source": [
    "# Modelling"
   ]
  },
  {
   "cell_type": "markdown",
   "metadata": {},
   "source": [
    "### Linear Regression"
   ]
  },
  {
   "cell_type": "code",
   "execution_count": null,
   "metadata": {},
   "outputs": [],
   "source": [
    "# Prepare training data\n",
    "X = np.linspace(1, len(seasonally_adjusted), len(seasonally_adjusted)) # Create time indexes from 1 to T as the input\n",
    "X = np.reshape(X, (len(seasonally_adjusted), 1))                       # Transform X to 2D array (matrix)\n",
    "y = seasonally_adjusted.values    \n",
    "\n",
    "# Create a LinearRegression object\n",
    "lm = LinearRegression()   \n",
    "\n",
    "# Train the linear regression model on training data (X,y)\n",
    "lm.fit(X, y)\n",
    "\n",
    "#fitting in-sample data\n",
    "trend_linear = lm.predict(X)\n",
    "\n",
    "# Now plot the seasonally adjusted data and the corresponding regression line\n",
    "plt.figure(figsize=(15,6))\n",
    "plt.plot(ts.index, seasonally_adjusted)\n",
    "plt.plot(ts.index, trend_linear)\n",
    "plt.title('Final TREND estimation linear regression')\n",
    "plt.xlabel('Month')\n",
    "plt.ylabel('CPI')\n",
    "plt.legend(['Seasonal adjusted data','Trend component (linear regression)'])\n",
    "plt.show()"
   ]
  },
  {
   "cell_type": "code",
   "execution_count": null,
   "metadata": {},
   "outputs": [],
   "source": [
    "# Forecast the trend component for upcoming 6 quarters\n",
    "\n",
    "prediction_list = []\n",
    "\n",
    "for i in range(1, 7):\n",
    "    trend_forecast = lm.predict(np.array([[len(ts)+i]]))\n",
    "    prediction_list.append(trend_forecast[0])\n",
    "\n",
    "Y_forecast = prediction_list"
   ]
  },
  {
   "cell_type": "code",
   "execution_count": null,
   "metadata": {},
   "outputs": [],
   "source": [
    "Y_forecast"
   ]
  },
  {
   "cell_type": "markdown",
   "metadata": {},
   "source": [
    "### TCES and Damped TCES"
   ]
  },
  {
   "cell_type": "code",
   "execution_count": null,
   "metadata": {},
   "outputs": [],
   "source": [
    "fit_damped_trend = ExponentialSmoothing(ts, damped_trend = True, trend='add').fit() # Holt's linear method\n",
    "fit_trend = ExponentialSmoothing(ts, damped_trend = False, trend='add').fit() # Holt's linear method"
   ]
  },
  {
   "cell_type": "code",
   "execution_count": null,
   "metadata": {},
   "outputs": [],
   "source": [
    "# symbol r $ and \\ in the results variable are the latex symbols for visualization in notebook\n",
    "results = pd.DataFrame(index=[r\"$\\alpha$\",\\\n",
    "                              r\"$\\beta$\",\\\n",
    "                              r\"$\\gamma$\",\\\n",
    "                              r\"$l_0$\",\\\n",
    "                              \"$b_0$\",\\\n",
    "                              \"SSE\"])\n",
    "# ExponentialSmoothing() object has following attributes\n",
    "params = ['smoothing_level', \\\n",
    "          'smoothing_trend', \\\n",
    "          'smoothing_seasonal', \\\n",
    "          'initial_level', \\\n",
    "          'initial_trend']\n",
    "\n",
    "# check out the performance of trend and damped trend\n",
    "results[\"Damped Trend\"]       = [fit_damped_trend.params[p] for p in params] + [fit_damped_trend.sse]\n",
    "results[\"Trend\"] = [fit_trend.params[p] for p in params] + [fit_trend.sse]\n",
    "print(results)"
   ]
  },
  {
   "cell_type": "code",
   "execution_count": null,
   "metadata": {},
   "outputs": [],
   "source": [
    "y_forecast_trend = fit_trend.forecast(6)\n",
    "y_forecast_damped_trend = fit_damped_trend.forecast(6)\n",
    "\n",
    "# And plot al together\n",
    "plt.figure(figsize=(16,5))\n",
    "plt.plot(y_forecast_trend, label = 'TCES')\n",
    "plt.plot(y_forecast_damped_trend, label = 'Damped TCES')\n",
    "plt.xlabel(\"Year\")\n",
    "plt.ylabel(\"CPI\")\n",
    "plt.title(\"CPI over the years\")\n",
    "plt.legend()\n",
    "plt.show()"
   ]
  },
  {
   "cell_type": "markdown",
   "metadata": {},
   "source": [
    "## ARIMA"
   ]
  },
  {
   "cell_type": "code",
   "execution_count": null,
   "metadata": {},
   "outputs": [],
   "source": [
    "ts_diff = pd.Series.diff(ts)"
   ]
  },
  {
   "cell_type": "code",
   "execution_count": null,
   "metadata": {},
   "outputs": [],
   "source": [
    "# Discard the nan value\n",
    "ts_diff = ts_diff.dropna()\n",
    "\n",
    "# Plot the differenced data\n",
    "plt.figure(figsize=(13,6))\n",
    "plt.plot(ts_diff)\n",
    "plt.xlabel('Time')\n",
    "plt.title('Monthly sales differencing')\n",
    "plt.grid()\n",
    "plt.show()"
   ]
  },
  {
   "cell_type": "code",
   "execution_count": null,
   "metadata": {},
   "outputs": [],
   "source": [
    "# Sample ACF\n",
    "smt.graphics.tsa.plot_acf(ts_diff, lags=30, alpha = 0.05)\n",
    "plt.show()\n",
    "\n",
    "# Sample PACF\n",
    "smt.graphics.tsa.plot_pacf(ts_diff, lags=30, alpha = 0.05)\n",
    "plt.show()"
   ]
  },
  {
   "cell_type": "code",
   "execution_count": null,
   "metadata": {},
   "outputs": [],
   "source": [
    "# Call test_stationarity() function to perform Dickey-Fuller test for the original series\n",
    "test_stationarity(ts_diff)   \n",
    "\n",
    "# Then call the plot_curve() to visualize the original, rolling mean and rolling std series\n",
    "plot_curve(ts_diff, 4)"
   ]
  },
  {
   "cell_type": "code",
   "execution_count": null,
   "metadata": {},
   "outputs": [],
   "source": [
    "# Create an ARIMA (1,1,1) model \n",
    "model = ARIMA(ts, order=(1, 1, 1))\n",
    "model_fit = model.fit()\n",
    "\n",
    "# Get the summary of the fitted model\n",
    "print(model_fit.summary())"
   ]
  },
  {
   "cell_type": "code",
   "execution_count": null,
   "metadata": {},
   "outputs": [],
   "source": [
    "# Get Fitted Series\n",
    "ts_fitted = model_fit.predict()\n",
    "\n",
    "# Actual vs Fitted\n",
    "plt.figure(figsize=(15,6))\n",
    "plt.plot(ts,label='Orignal sales')\n",
    "plt.plot(ts_fitted,label='Fitted sales')\n",
    "plt.title(\"ARIMA(1,1,1) model fitted vs true values\")\n",
    "plt.legend(loc=2)\n",
    "plt.show()"
   ]
  },
  {
   "cell_type": "code",
   "execution_count": null,
   "metadata": {},
   "outputs": [],
   "source": [
    "model = pm.auto_arima(\n",
    "    ts, \n",
    "    start_p=0,              # Starting point for p\n",
    "    start_q=0,              # Starting point for q\n",
    "    max_p=5,                # Maximum p value to test\n",
    "    max_q=5,                # Maximum q value to test\n",
    "    d=None,                 # Automatically determine d (differencing)\n",
    "    seasonal=False,         # Set to True for seasonal data (SARIMA)\n",
    "    stepwise=True,          # Use stepwise search to improve speed\n",
    "    trace=True,             # Output search progress\n",
    "    error_action='ignore',  # Ignore convergence warnings\n",
    "    suppress_warnings=True, # Suppress other warnings\n",
    "    information_criterion='aic',  # Select the model with the lowest AIC\n",
    ")\n",
    "\n",
    "# Summary of the best model\n",
    "print(model.summary())"
   ]
  },
  {
   "cell_type": "code",
   "execution_count": null,
   "metadata": {},
   "outputs": [],
   "source": [
    "p,q = 0,1\n",
    "model_AIC = ARIMA(ts, order=(p, 1, q))\n",
    "results_AIC_ARIMA = model_AIC.fit()\n",
    "# Get Fitted Series\n",
    "fitted_AIC = results_AIC_ARIMA.predict()\n",
    "\n",
    "# Actual vs Fitted\n",
    "plt.figure(figsize=(15,6))\n",
    "plt.plot(ts,label='Orignal sales')\n",
    "plt.plot(fitted_AIC,label='Fitted sales')\n",
    "plt.title(\"ARIMA(0,1,1) model fitted vs true values\")\n",
    "plt.legend(loc=2)\n",
    "plt.show()"
   ]
  },
  {
   "cell_type": "code",
   "execution_count": null,
   "metadata": {},
   "outputs": [],
   "source": [
    "\"\"\"\n",
    "Important Notes:\n",
    "\n",
    "we need to add the following:\n",
    "\n",
    "1. train-test split\n",
    "2. calculate error\n",
    "3. compare error and select the best model as a final model\n",
    "\n",
    "Currently, I use all data as in-sample to fit and forecast for unseen future. \n",
    "\"\"\""
   ]
  }
 ],
 "metadata": {
  "kernelspec": {
   "display_name": "Python 3",
   "language": "python",
   "name": "python3"
  },
  "language_info": {
   "codemirror_mode": {
    "name": "ipython",
    "version": 3
   },
   "file_extension": ".py",
   "mimetype": "text/x-python",
   "name": "python",
   "nbconvert_exporter": "python",
   "pygments_lexer": "ipython3",
   "version": "3.8.5"
  }
 },
 "nbformat": 4,
 "nbformat_minor": 5
}
